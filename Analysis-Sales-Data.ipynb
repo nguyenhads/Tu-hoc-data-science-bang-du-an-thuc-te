{
 "cells": [
  {
   "cell_type": "markdown",
   "id": "5fd6cf0a",
   "metadata": {},
   "source": [
    "## Tasks:\n",
    "\n",
    "#### 1.\tWhat was the best month for sales? How much was earned that month?\n",
    "#### 2.\tWhat city sold the most product?\n",
    "#### 3.\tWhat time should we display advertisemens to maximize the likelihood of customer’s buying product?\n",
    "#### 4.\tWhat products are most often sold together?\n",
    "#### 5.\tWhat product sold the most? Why do you think it sold the most?"
   ]
  },
  {
   "cell_type": "code",
   "execution_count": 1,
   "id": "465b4624",
   "metadata": {},
   "outputs": [],
   "source": [
    "# Importing\n",
    "import pandas as pd\n",
    "import numpy as np\n",
    "import matplotlib.pyplot as plt\n",
    "import seaborn as sns\n",
    "# sns.set_style(\"white\")\n",
    "\n",
    "import matplotlib as mpl\n",
    "plt.style.use(\"science\") #\"ggplot\"\n",
    "\n",
    "mpl.rc('axes', labelsize=16)\n",
    "mpl.rc('xtick', labelsize=14)\n",
    "mpl.rc('ytick', labelsize=14)\n",
    "mpl.rc('figure', figsize = (8,6))\n",
    "\n",
    "import warnings\n",
    "warnings.filterwarnings('ignore')\n",
    "\n",
    "%config Completer.use_jedi = False"
   ]
  },
  {
   "cell_type": "code",
   "execution_count": null,
   "id": "8ec226ce",
   "metadata": {},
   "outputs": [],
   "source": [
    "# working with directories\n",
    "import os"
   ]
  },
  {
   "cell_type": "code",
   "execution_count": null,
   "id": "8f8be18b",
   "metadata": {},
   "outputs": [],
   "source": [
    "relative_path = \"./Sales_Data\"\n",
    "os.listdir(relative_path)"
   ]
  },
  {
   "cell_type": "markdown",
   "id": "e21b1e4b",
   "metadata": {},
   "source": [
    "### Sub-task: Merge 12 month sales data  into one csv file"
   ]
  },
  {
   "cell_type": "code",
   "execution_count": null,
   "id": "e5df085e",
   "metadata": {},
   "outputs": [],
   "source": [
    "files = [file for file in os.listdir(relative_path) ]\n",
    "files"
   ]
  },
  {
   "cell_type": "code",
   "execution_count": null,
   "id": "1c6341c9",
   "metadata": {},
   "outputs": [],
   "source": [
    "# Concat all the csv file\n",
    "year_data = pd.DataFrame()\n",
    "relative_path = \"./Sales_Data\"\n",
    "for file in files:\n",
    "    df = pd.read_csv(relative_path + \"/\" + file)\n",
    "    year_data = pd.concat([year_data, df], axis= \"rows\")\n",
    "\n",
    "year_data.to_csv(\"Year-data.csv\", index = False)"
   ]
  },
  {
   "cell_type": "markdown",
   "id": "421106f4",
   "metadata": {},
   "source": [
    "### Read sales data (after merging)"
   ]
  },
  {
   "cell_type": "code",
   "execution_count": 2,
   "id": "852db4da",
   "metadata": {},
   "outputs": [],
   "source": [
    "# Read year data\n",
    "df_raw = pd.read_csv(\"Year-data.csv\")\n",
    "# df_raw.head()"
   ]
  },
  {
   "cell_type": "code",
   "execution_count": 3,
   "id": "d7c916a3",
   "metadata": {},
   "outputs": [],
   "source": [
    "# Create a backup for raw df\n",
    "df = df_raw.copy()"
   ]
  },
  {
   "cell_type": "code",
   "execution_count": 4,
   "id": "c04c0779",
   "metadata": {},
   "outputs": [],
   "source": [
    "# df.info()\n",
    "# df.describe(include = \"object\")\n",
    "# df.columns"
   ]
  },
  {
   "cell_type": "markdown",
   "id": "c85c3fba",
   "metadata": {},
   "source": [
    "## Task 1: What was the best month for sales? How much was earned that month?"
   ]
  },
  {
   "cell_type": "code",
   "execution_count": 5,
   "id": "9cd8541a",
   "metadata": {},
   "outputs": [
    {
     "data": {
      "text/html": [
       "<div>\n",
       "<style scoped>\n",
       "    .dataframe tbody tr th:only-of-type {\n",
       "        vertical-align: middle;\n",
       "    }\n",
       "\n",
       "    .dataframe tbody tr th {\n",
       "        vertical-align: top;\n",
       "    }\n",
       "\n",
       "    .dataframe thead th {\n",
       "        text-align: right;\n",
       "    }\n",
       "</style>\n",
       "<table border=\"1\" class=\"dataframe\">\n",
       "  <thead>\n",
       "    <tr style=\"text-align: right;\">\n",
       "      <th></th>\n",
       "      <th>Order ID</th>\n",
       "      <th>Product</th>\n",
       "      <th>Quantity Ordered</th>\n",
       "      <th>Price Each</th>\n",
       "      <th>Order Date</th>\n",
       "      <th>Purchase Address</th>\n",
       "    </tr>\n",
       "  </thead>\n",
       "  <tbody>\n",
       "    <tr>\n",
       "      <th>0</th>\n",
       "      <td>295665</td>\n",
       "      <td>Macbook Pro Laptop</td>\n",
       "      <td>1</td>\n",
       "      <td>1700</td>\n",
       "      <td>12/30/19 00:01</td>\n",
       "      <td>136 Church St, New York City, NY 10001</td>\n",
       "    </tr>\n",
       "    <tr>\n",
       "      <th>1</th>\n",
       "      <td>295666</td>\n",
       "      <td>LG Washing Machine</td>\n",
       "      <td>1</td>\n",
       "      <td>600.0</td>\n",
       "      <td>12/29/19 07:03</td>\n",
       "      <td>562 2nd St, New York City, NY 10001</td>\n",
       "    </tr>\n",
       "    <tr>\n",
       "      <th>2</th>\n",
       "      <td>295667</td>\n",
       "      <td>USB-C Charging Cable</td>\n",
       "      <td>1</td>\n",
       "      <td>11.95</td>\n",
       "      <td>12/12/19 18:21</td>\n",
       "      <td>277 Main St, New York City, NY 10001</td>\n",
       "    </tr>\n",
       "    <tr>\n",
       "      <th>3</th>\n",
       "      <td>295668</td>\n",
       "      <td>27in FHD Monitor</td>\n",
       "      <td>1</td>\n",
       "      <td>149.99</td>\n",
       "      <td>12/22/19 15:13</td>\n",
       "      <td>410 6th St, San Francisco, CA 94016</td>\n",
       "    </tr>\n",
       "    <tr>\n",
       "      <th>4</th>\n",
       "      <td>295669</td>\n",
       "      <td>USB-C Charging Cable</td>\n",
       "      <td>1</td>\n",
       "      <td>11.95</td>\n",
       "      <td>12/18/19 12:38</td>\n",
       "      <td>43 Hill St, Atlanta, GA 30301</td>\n",
       "    </tr>\n",
       "  </tbody>\n",
       "</table>\n",
       "</div>"
      ],
      "text/plain": [
       "  Order ID               Product Quantity Ordered Price Each      Order Date  \\\n",
       "0   295665    Macbook Pro Laptop                1       1700  12/30/19 00:01   \n",
       "1   295666    LG Washing Machine                1      600.0  12/29/19 07:03   \n",
       "2   295667  USB-C Charging Cable                1      11.95  12/12/19 18:21   \n",
       "3   295668      27in FHD Monitor                1     149.99  12/22/19 15:13   \n",
       "4   295669  USB-C Charging Cable                1      11.95  12/18/19 12:38   \n",
       "\n",
       "                         Purchase Address  \n",
       "0  136 Church St, New York City, NY 10001  \n",
       "1     562 2nd St, New York City, NY 10001  \n",
       "2    277 Main St, New York City, NY 10001  \n",
       "3     410 6th St, San Francisco, CA 94016  \n",
       "4           43 Hill St, Atlanta, GA 30301  "
      ]
     },
     "execution_count": 5,
     "metadata": {},
     "output_type": "execute_result"
    }
   ],
   "source": [
    "df.head(5)"
   ]
  },
  {
   "cell_type": "code",
   "execution_count": 6,
   "id": "fdf67966",
   "metadata": {},
   "outputs": [],
   "source": [
    "# Create month columns\n",
    "df[\"Month\"] = df[\"Order Date\"].str[0:2]"
   ]
  },
  {
   "cell_type": "code",
   "execution_count": 7,
   "id": "44f23795",
   "metadata": {},
   "outputs": [],
   "source": [
    "df.dropna(inplace = True)"
   ]
  },
  {
   "cell_type": "code",
   "execution_count": 8,
   "id": "bf2c1130",
   "metadata": {},
   "outputs": [],
   "source": [
    "# Deal \"or\" in months\n",
    "cond_or = (df[\"Month\"] != \"Or\")\n",
    "df = df[cond_or]"
   ]
  },
  {
   "cell_type": "code",
   "execution_count": 9,
   "id": "84be54c0",
   "metadata": {},
   "outputs": [],
   "source": [
    "# Convert month in str to month in int\n",
    "df[\"Month\"] = df[\"Month\"].astype(\"int32\")"
   ]
  },
  {
   "cell_type": "markdown",
   "id": "9e40074d",
   "metadata": {},
   "source": [
    "### Calculate sales"
   ]
  },
  {
   "cell_type": "code",
   "execution_count": 10,
   "id": "80d1140c",
   "metadata": {},
   "outputs": [],
   "source": [
    "df[\"Quantity Ordered\"] = pd.to_numeric(df[\"Quantity Ordered\"])\n",
    "df[\"Price Each\"] = pd.to_numeric(df[\"Price Each\"])"
   ]
  },
  {
   "cell_type": "code",
   "execution_count": 11,
   "id": "afccc8f0",
   "metadata": {},
   "outputs": [],
   "source": [
    "df[\"Sales\"] = df[\"Quantity Ordered\"] * df[\"Price Each\"]"
   ]
  },
  {
   "cell_type": "code",
   "execution_count": 12,
   "id": "a0baca29",
   "metadata": {},
   "outputs": [
    {
     "name": "stdout",
     "output_type": "stream",
     "text": [
      "<class 'pandas.core.frame.DataFrame'>\n",
      "Int64Index: 185950 entries, 0 to 186849\n",
      "Data columns (total 8 columns):\n",
      " #   Column            Non-Null Count   Dtype  \n",
      "---  ------            --------------   -----  \n",
      " 0   Order ID          185950 non-null  object \n",
      " 1   Product           185950 non-null  object \n",
      " 2   Quantity Ordered  185950 non-null  int64  \n",
      " 3   Price Each        185950 non-null  float64\n",
      " 4   Order Date        185950 non-null  object \n",
      " 5   Purchase Address  185950 non-null  object \n",
      " 6   Month             185950 non-null  int32  \n",
      " 7   Sales             185950 non-null  float64\n",
      "dtypes: float64(2), int32(1), int64(1), object(4)\n",
      "memory usage: 12.1+ MB\n"
     ]
    }
   ],
   "source": [
    "df.info()"
   ]
  },
  {
   "cell_type": "code",
   "execution_count": 13,
   "id": "8e9598a1",
   "metadata": {},
   "outputs": [],
   "source": [
    "sales_by_month = df.groupby(by = \"Month\").sum()"
   ]
  },
  {
   "cell_type": "code",
   "execution_count": 14,
   "id": "c1df4148",
   "metadata": {},
   "outputs": [],
   "source": [
    "sales_by_month.reset_index(inplace=True)"
   ]
  },
  {
   "cell_type": "code",
   "execution_count": 15,
   "id": "f3847a4b",
   "metadata": {},
   "outputs": [
    {
     "name": "stdout",
     "output_type": "stream",
     "text": [
      "The best month for sales is: 12\n",
      "Sales of 12 is: 4613443.34 USD\n"
     ]
    }
   ],
   "source": [
    "print(\"The best month for sales is: {}\".format((sales_by_month[\"Sales\"].argmax() + 1)))\n",
    "print(\"Sales of 12 is: {} USD\".format(sales_by_month[\"Sales\"].max()))"
   ]
  },
  {
   "cell_type": "code",
   "execution_count": 16,
   "id": "59194982",
   "metadata": {},
   "outputs": [
    {
     "data": {
      "image/png": "[encoded data removed]",
      "text/plain": [
       "<Figure size 432x288 with 1 Axes>"
      ]
     },
     "metadata": {
      "needs_background": "light"
     },
     "output_type": "display_data"
    }
   ],
   "source": [
    "x = sales_by_month[\"Month\"]\n",
    "y = sales_by_month[\"Sales\"]\n",
    "\n",
    "plt.figure(figsize = (6,4))\n",
    "\n",
    "sns.barplot(x, y, color = \"salmon\")\n",
    "\n",
    "plt.title(\"Sales by month\", fontsize = 16)\n",
    "plt.xlabel(\"Months\", fontsize = 14)\n",
    "plt.ylabel(\"Sales in USD (\\$)\", fontsize = 14)\n",
    "plt.xticks(fontsize = 14)\n",
    "plt.yticks(fontsize = 14)\n",
    "plt.show()"
   ]
  },
  {
   "cell_type": "markdown",
   "id": "97ec6615",
   "metadata": {},
   "source": [
    "### Task 2: What city sale the most products?"
   ]
  },
  {
   "cell_type": "code",
   "execution_count": 17,
   "id": "5562d004",
   "metadata": {},
   "outputs": [],
   "source": [
    "def getCity(address):\n",
    "    return address.split(\",\")[1].strip()"
   ]
  },
  {
   "cell_type": "code",
   "execution_count": 18,
   "id": "ae3502f2",
   "metadata": {},
   "outputs": [],
   "source": [
    "df[\"City\"] = df[\"Purchase Address\"].apply(getCity)"
   ]
  },
  {
   "cell_type": "code",
   "execution_count": 19,
   "id": "b98a402e",
   "metadata": {},
   "outputs": [],
   "source": [
    "sales_by_city = df.groupby(by = \"City\").sum()"
   ]
  },
  {
   "cell_type": "code",
   "execution_count": 20,
   "id": "ecc58082",
   "metadata": {},
   "outputs": [
    {
     "data": {
      "text/html": [
       "<div>\n",
       "<style scoped>\n",
       "    .dataframe tbody tr th:only-of-type {\n",
       "        vertical-align: middle;\n",
       "    }\n",
       "\n",
       "    .dataframe tbody tr th {\n",
       "        vertical-align: top;\n",
       "    }\n",
       "\n",
       "    .dataframe thead th {\n",
       "        text-align: right;\n",
       "    }\n",
       "</style>\n",
       "<table border=\"1\" class=\"dataframe\">\n",
       "  <thead>\n",
       "    <tr style=\"text-align: right;\">\n",
       "      <th></th>\n",
       "      <th>Quantity Ordered</th>\n",
       "      <th>Price Each</th>\n",
       "      <th>Month</th>\n",
       "      <th>Sales</th>\n",
       "    </tr>\n",
       "    <tr>\n",
       "      <th>City</th>\n",
       "      <th></th>\n",
       "      <th></th>\n",
       "      <th></th>\n",
       "      <th></th>\n",
       "    </tr>\n",
       "  </thead>\n",
       "  <tbody>\n",
       "    <tr>\n",
       "      <th>Atlanta</th>\n",
       "      <td>16602</td>\n",
       "      <td>2779908.20</td>\n",
       "      <td>104794</td>\n",
       "      <td>2795498.58</td>\n",
       "    </tr>\n",
       "    <tr>\n",
       "      <th>Austin</th>\n",
       "      <td>11153</td>\n",
       "      <td>1809873.61</td>\n",
       "      <td>69829</td>\n",
       "      <td>1819581.75</td>\n",
       "    </tr>\n",
       "    <tr>\n",
       "      <th>Boston</th>\n",
       "      <td>22528</td>\n",
       "      <td>3637409.77</td>\n",
       "      <td>141112</td>\n",
       "      <td>3661642.01</td>\n",
       "    </tr>\n",
       "    <tr>\n",
       "      <th>Dallas</th>\n",
       "      <td>16730</td>\n",
       "      <td>2752627.82</td>\n",
       "      <td>104620</td>\n",
       "      <td>2767975.40</td>\n",
       "    </tr>\n",
       "    <tr>\n",
       "      <th>Los Angeles</th>\n",
       "      <td>33289</td>\n",
       "      <td>5421435.23</td>\n",
       "      <td>208325</td>\n",
       "      <td>5452570.80</td>\n",
       "    </tr>\n",
       "    <tr>\n",
       "      <th>New York City</th>\n",
       "      <td>27932</td>\n",
       "      <td>4635370.83</td>\n",
       "      <td>175741</td>\n",
       "      <td>4664317.43</td>\n",
       "    </tr>\n",
       "    <tr>\n",
       "      <th>Portland</th>\n",
       "      <td>14053</td>\n",
       "      <td>2307747.47</td>\n",
       "      <td>87765</td>\n",
       "      <td>2320490.61</td>\n",
       "    </tr>\n",
       "    <tr>\n",
       "      <th>San Francisco</th>\n",
       "      <td>50239</td>\n",
       "      <td>8211461.74</td>\n",
       "      <td>315520</td>\n",
       "      <td>8262203.91</td>\n",
       "    </tr>\n",
       "    <tr>\n",
       "      <th>Seattle</th>\n",
       "      <td>16553</td>\n",
       "      <td>2733296.01</td>\n",
       "      <td>104941</td>\n",
       "      <td>2747755.48</td>\n",
       "    </tr>\n",
       "  </tbody>\n",
       "</table>\n",
       "</div>"
      ],
      "text/plain": [
       "               Quantity Ordered  Price Each   Month       Sales\n",
       "City                                                           \n",
       "Atlanta                   16602  2779908.20  104794  2795498.58\n",
       "Austin                    11153  1809873.61   69829  1819581.75\n",
       "Boston                    22528  3637409.77  141112  3661642.01\n",
       "Dallas                    16730  2752627.82  104620  2767975.40\n",
       "Los Angeles               33289  5421435.23  208325  5452570.80\n",
       "New York City             27932  4635370.83  175741  4664317.43\n",
       "Portland                  14053  2307747.47   87765  2320490.61\n",
       "San Francisco             50239  8211461.74  315520  8262203.91\n",
       "Seattle                   16553  2733296.01  104941  2747755.48"
      ]
     },
     "execution_count": 20,
     "metadata": {},
     "output_type": "execute_result"
    }
   ],
   "source": [
    "sales_by_city"
   ]
  },
  {
   "cell_type": "code",
   "execution_count": 21,
   "id": "56ea5273",
   "metadata": {},
   "outputs": [],
   "source": [
    "cities = ['Atlanta', 'Austin', 'Boston', 'Dallas', 'Los Angeles', 'New York City',\n",
    "       'Portland', 'San Francisco', 'Seattle']"
   ]
  },
  {
   "cell_type": "code",
   "execution_count": 22,
   "id": "7aca2cb7",
   "metadata": {},
   "outputs": [
    {
     "name": "stdout",
     "output_type": "stream",
     "text": [
      "The city with the highest sale is: San Francisco\n"
     ]
    }
   ],
   "source": [
    "indexCity = sales_by_city[\"Sales\"].argmax()\n",
    "print(\"The city with the highest sale is: {}\".format(cities[indexCity]))"
   ]
  },
  {
   "cell_type": "code",
   "execution_count": 28,
   "id": "e11c84c3",
   "metadata": {},
   "outputs": [
    {
     "data": {
      "image/png": "[encoded data removed]",
      "text/plain": [
       "<Figure size 576x432 with 1 Axes>"
      ]
     },
     "metadata": {
      "needs_background": "light"
     },
     "output_type": "display_data"
    }
   ],
   "source": [
    "# Define x,y axes\n",
    "x = sales_by_city.index\n",
    "y = sales_by_city[\"Sales\"]\n",
    "\n",
    "#plot\n",
    "plt.barh(x, y, color = \"green\")\n",
    "\n",
    "#set title, label\n",
    "plt.xticks()\n",
    "plt.xlabel(\"Sales\")\n",
    "plt.ylabel(\"City\")\n",
    "#show plot\n",
    "plt.show()"
   ]
  },
  {
   "cell_type": "markdown",
   "id": "02bd2fcd",
   "metadata": {},
   "source": [
    "## 3. What time should we display advertisemens to maximize the likelihood of customer’s buying product?\n"
   ]
  },
  {
   "cell_type": "code",
   "execution_count": 31,
   "id": "4a6aa56e",
   "metadata": {},
   "outputs": [],
   "source": [
    "df[\"Hour\"] = pd.to_datetime(df[\"Order Date\"]).dt.hour"
   ]
  },
  {
   "cell_type": "code",
   "execution_count": 44,
   "id": "31835321",
   "metadata": {},
   "outputs": [],
   "source": [
    "groupedByHourSum = df.groupby(by = \"Hour\").sum()"
   ]
  },
  {
   "cell_type": "code",
   "execution_count": 36,
   "id": "75e6017e",
   "metadata": {},
   "outputs": [],
   "source": [
    "groupedByHour = df.groupby(by = \"Hour\").count()"
   ]
  },
  {
   "cell_type": "code",
   "execution_count": 57,
   "id": "37914147",
   "metadata": {},
   "outputs": [
    {
     "data": {
      "image/png": "[encoded data removed]",
      "text/plain": [
       "<Figure size 576x432 with 1 Axes>"
      ]
     },
     "metadata": {
      "needs_background": "light"
     },
     "output_type": "display_data"
    }
   ],
   "source": [
    "# Drawing count order by hour\n",
    "\n",
    "x = groupedByHour.index\n",
    "y = groupedByHour[\"Quantity Ordered\"]\n",
    "z = groupedByHourSum[\"Quantity Ordered\"]\n",
    "\n",
    "fig, ax= plt.subplots()\n",
    "\n",
    "ax.plot(x, y, \"kh-.\", label = \"Count\")\n",
    "ax.plot(x, z, \"rd--\", label = \"Sum\")\n",
    "\n",
    "\n",
    "plt.xlabel(\"Time (hour)\")\n",
    "plt.ylabel(\"Count\")\n",
    "\n",
    "plt.xticks(x)\n",
    "\n",
    "plt.legend(loc = 2, fontsize = 16, frameon=True)\n",
    "plt.grid()\n",
    "plt.show()"
   ]
  },
  {
   "cell_type": "markdown",
   "id": "ecce9fd9",
   "metadata": {},
   "source": [
    "## 4. What products are most often sold together?"
   ]
  },
  {
   "cell_type": "code",
   "execution_count": 60,
   "id": "2efab82f",
   "metadata": {},
   "outputs": [],
   "source": [
    "condDuplicatedID = df[\"Order ID\"].duplicated(keep = False)"
   ]
  },
  {
   "cell_type": "code",
   "execution_count": 64,
   "id": "0b3e5707",
   "metadata": {},
   "outputs": [],
   "source": [
    "duplicated_df = df[condDuplicatedID]"
   ]
  },
  {
   "cell_type": "code",
   "execution_count": 78,
   "id": "5180962d",
   "metadata": {},
   "outputs": [
    {
     "name": "stdout",
     "output_type": "stream",
     "text": [
      "<class 'pandas.core.frame.DataFrame'>\n",
      "Int64Index: 14649 entries, 16 to 186843\n",
      "Data columns (total 10 columns):\n",
      " #   Column            Non-Null Count  Dtype  \n",
      "---  ------            --------------  -----  \n",
      " 0   Order ID          14649 non-null  object \n",
      " 1   Product           14649 non-null  object \n",
      " 2   Quantity Ordered  14649 non-null  int64  \n",
      " 3   Price Each        14649 non-null  float64\n",
      " 4   Order Date        14649 non-null  object \n",
      " 5   Purchase Address  14649 non-null  object \n",
      " 6   Month             14649 non-null  int32  \n",
      " 7   Sales             14649 non-null  float64\n",
      " 8   City              14649 non-null  object \n",
      " 9   Hour              14649 non-null  int64  \n",
      "dtypes: float64(2), int32(1), int64(2), object(5)\n",
      "memory usage: 1.2+ MB\n"
     ]
    }
   ],
   "source": [
    "duplicated_df.info()"
   ]
  },
  {
   "cell_type": "code",
   "execution_count": 63,
   "id": "3575c190",
   "metadata": {},
   "outputs": [],
   "source": [
    "# Create a function to join product with same Order ID\n",
    "def connectProduct(product):\n",
    "    return \", \".join(product)"
   ]
  },
  {
   "cell_type": "code",
   "execution_count": 79,
   "id": "496e1e7d",
   "metadata": {},
   "outputs": [],
   "source": [
    "duplicated_df[\"Grouped Products\"] = duplicated_df.groupby(\"Order ID\")[\"Product\"].transform(connectProduct)"
   ]
  },
  {
   "cell_type": "code",
   "execution_count": 82,
   "id": "69cc916b",
   "metadata": {},
   "outputs": [
    {
     "data": {
      "text/html": [
       "<div>\n",
       "<style scoped>\n",
       "    .dataframe tbody tr th:only-of-type {\n",
       "        vertical-align: middle;\n",
       "    }\n",
       "\n",
       "    .dataframe tbody tr th {\n",
       "        vertical-align: top;\n",
       "    }\n",
       "\n",
       "    .dataframe thead th {\n",
       "        text-align: right;\n",
       "    }\n",
       "</style>\n",
       "<table border=\"1\" class=\"dataframe\">\n",
       "  <thead>\n",
       "    <tr style=\"text-align: right;\">\n",
       "      <th></th>\n",
       "      <th>Order ID</th>\n",
       "      <th>Product</th>\n",
       "      <th>Grouped Products</th>\n",
       "    </tr>\n",
       "  </thead>\n",
       "  <tbody>\n",
       "    <tr>\n",
       "      <th>16</th>\n",
       "      <td>295681</td>\n",
       "      <td>Google Phone</td>\n",
       "      <td>Google Phone, USB-C Charging Cable, Bose Sound...</td>\n",
       "    </tr>\n",
       "    <tr>\n",
       "      <th>17</th>\n",
       "      <td>295681</td>\n",
       "      <td>USB-C Charging Cable</td>\n",
       "      <td>Google Phone, USB-C Charging Cable, Bose Sound...</td>\n",
       "    </tr>\n",
       "    <tr>\n",
       "      <th>18</th>\n",
       "      <td>295681</td>\n",
       "      <td>Bose SoundSport Headphones</td>\n",
       "      <td>Google Phone, USB-C Charging Cable, Bose Sound...</td>\n",
       "    </tr>\n",
       "    <tr>\n",
       "      <th>19</th>\n",
       "      <td>295681</td>\n",
       "      <td>Wired Headphones</td>\n",
       "      <td>Google Phone, USB-C Charging Cable, Bose Sound...</td>\n",
       "    </tr>\n",
       "    <tr>\n",
       "      <th>36</th>\n",
       "      <td>295698</td>\n",
       "      <td>Vareebadd Phone</td>\n",
       "      <td>Vareebadd Phone, USB-C Charging Cable</td>\n",
       "    </tr>\n",
       "    <tr>\n",
       "      <th>...</th>\n",
       "      <td>...</td>\n",
       "      <td>...</td>\n",
       "      <td>...</td>\n",
       "    </tr>\n",
       "    <tr>\n",
       "      <th>186820</th>\n",
       "      <td>222882</td>\n",
       "      <td>AA Batteries (4-pack)</td>\n",
       "      <td>Apple Airpods Headphones, AA Batteries (4-pack)</td>\n",
       "    </tr>\n",
       "    <tr>\n",
       "      <th>186822</th>\n",
       "      <td>222884</td>\n",
       "      <td>Google Phone</td>\n",
       "      <td>Google Phone, USB-C Charging Cable</td>\n",
       "    </tr>\n",
       "    <tr>\n",
       "      <th>186823</th>\n",
       "      <td>222884</td>\n",
       "      <td>USB-C Charging Cable</td>\n",
       "      <td>Google Phone, USB-C Charging Cable</td>\n",
       "    </tr>\n",
       "    <tr>\n",
       "      <th>186842</th>\n",
       "      <td>222903</td>\n",
       "      <td>iPhone</td>\n",
       "      <td>iPhone, Lightning Charging Cable</td>\n",
       "    </tr>\n",
       "    <tr>\n",
       "      <th>186843</th>\n",
       "      <td>222903</td>\n",
       "      <td>Lightning Charging Cable</td>\n",
       "      <td>iPhone, Lightning Charging Cable</td>\n",
       "    </tr>\n",
       "  </tbody>\n",
       "</table>\n",
       "<p>14649 rows × 3 columns</p>\n",
       "</div>"
      ],
      "text/plain": [
       "       Order ID                     Product  \\\n",
       "16       295681                Google Phone   \n",
       "17       295681        USB-C Charging Cable   \n",
       "18       295681  Bose SoundSport Headphones   \n",
       "19       295681            Wired Headphones   \n",
       "36       295698             Vareebadd Phone   \n",
       "...         ...                         ...   \n",
       "186820   222882       AA Batteries (4-pack)   \n",
       "186822   222884                Google Phone   \n",
       "186823   222884        USB-C Charging Cable   \n",
       "186842   222903                      iPhone   \n",
       "186843   222903    Lightning Charging Cable   \n",
       "\n",
       "                                         Grouped Products  \n",
       "16      Google Phone, USB-C Charging Cable, Bose Sound...  \n",
       "17      Google Phone, USB-C Charging Cable, Bose Sound...  \n",
       "18      Google Phone, USB-C Charging Cable, Bose Sound...  \n",
       "19      Google Phone, USB-C Charging Cable, Bose Sound...  \n",
       "36                  Vareebadd Phone, USB-C Charging Cable  \n",
       "...                                                   ...  \n",
       "186820    Apple Airpods Headphones, AA Batteries (4-pack)  \n",
       "186822                 Google Phone, USB-C Charging Cable  \n",
       "186823                 Google Phone, USB-C Charging Cable  \n",
       "186842                   iPhone, Lightning Charging Cable  \n",
       "186843                   iPhone, Lightning Charging Cable  \n",
       "\n",
       "[14649 rows x 3 columns]"
      ]
     },
     "execution_count": 82,
     "metadata": {},
     "output_type": "execute_result"
    }
   ],
   "source": [
    "duplicated_df[[\"Order ID\", \"Product\", \"Grouped Products\"]]"
   ]
  },
  {
   "cell_type": "code",
   "execution_count": 88,
   "id": "ca09fa09",
   "metadata": {},
   "outputs": [],
   "source": [
    "duplicated_index = duplicated_df[\"Order ID\"].drop_duplicates().index"
   ]
  },
  {
   "cell_type": "code",
   "execution_count": 99,
   "id": "50bd6cb1",
   "metadata": {},
   "outputs": [],
   "source": [
    "groupedProducts = duplicated_df.loc[duplicated_index, \"Grouped Products\"]"
   ]
  },
  {
   "cell_type": "code",
   "execution_count": 100,
   "id": "ef6713d5",
   "metadata": {},
   "outputs": [
    {
     "data": {
      "text/plain": [
       "iPhone, Lightning Charging Cable                              882\n",
       "Google Phone, USB-C Charging Cable                            856\n",
       "iPhone, Wired Headphones                                      361\n",
       "Vareebadd Phone, USB-C Charging Cable                         312\n",
       "Google Phone, Wired Headphones                                303\n",
       "                                                             ... \n",
       "20in Monitor, iPhone                                            1\n",
       "Google Phone, USB-C Charging Cable, Vareebadd Phone             1\n",
       "LG Dryer, Google Phone                                          1\n",
       "20in Monitor, LG Washing Machine                                1\n",
       "Google Phone, Bose SoundSport Headphones, 27in FHD Monitor      1\n",
       "Name: Grouped Products, Length: 366, dtype: int64"
      ]
     },
     "execution_count": 100,
     "metadata": {},
     "output_type": "execute_result"
    }
   ],
   "source": [
    "groupedProducts.value_counts()"
   ]
  },
  {
   "cell_type": "code",
   "execution_count": 113,
   "id": "0a2ec2b5",
   "metadata": {},
   "outputs": [
    {
     "name": "stdout",
     "output_type": "stream",
     "text": [
      "iPhone and Lightning Charging Cable have 1005 times soled together\n",
      "Google Phone and USB-C Charging Cable have 987 times soled together\n",
      "iPhone and Wired Headphones have 447 times soled together\n",
      "Google Phone and Wired Headphones have 414 times soled together\n",
      "Vareebadd Phone and USB-C Charging Cable have 361 times soled together\n"
     ]
    }
   ],
   "source": [
    "from itertools import combinations\n",
    "from collections import Counter\n",
    "\n",
    "count = Counter()\n",
    "\n",
    "for row in groupedProducts:\n",
    "    row_list = row.split(\", \")\n",
    "    count.update(Counter(combinations(row_list, 2)))\n",
    "\n",
    "for key, value in count.most_common(5):\n",
    "    print(f\"{key[0]} and {key[1]} have {value} times soled together\")"
   ]
  },
  {
   "cell_type": "markdown",
   "id": "5dd556bc",
   "metadata": {},
   "source": [
    "## 5. What product sold the most? Why do you think it sold the most?"
   ]
  },
  {
   "cell_type": "code",
   "execution_count": 117,
   "id": "862e448f",
   "metadata": {},
   "outputs": [],
   "source": [
    "groupedByProduct = df.groupby(\"Product\").sum()"
   ]
  },
  {
   "cell_type": "code",
   "execution_count": 134,
   "id": "daf57083",
   "metadata": {
    "collapsed": true
   },
   "outputs": [
    {
     "data": {
      "text/html": [
       "<div>\n",
       "<style scoped>\n",
       "    .dataframe tbody tr th:only-of-type {\n",
       "        vertical-align: middle;\n",
       "    }\n",
       "\n",
       "    .dataframe tbody tr th {\n",
       "        vertical-align: top;\n",
       "    }\n",
       "\n",
       "    .dataframe thead th {\n",
       "        text-align: right;\n",
       "    }\n",
       "</style>\n",
       "<table border=\"1\" class=\"dataframe\">\n",
       "  <thead>\n",
       "    <tr style=\"text-align: right;\">\n",
       "      <th></th>\n",
       "      <th>Quantity Ordered</th>\n",
       "      <th>Price Each</th>\n",
       "      <th>Month</th>\n",
       "      <th>Sales</th>\n",
       "      <th>Hour</th>\n",
       "    </tr>\n",
       "    <tr>\n",
       "      <th>Product</th>\n",
       "      <th></th>\n",
       "      <th></th>\n",
       "      <th></th>\n",
       "      <th></th>\n",
       "      <th></th>\n",
       "    </tr>\n",
       "  </thead>\n",
       "  <tbody>\n",
       "    <tr>\n",
       "      <th>20in Monitor</th>\n",
       "      <td>4129</td>\n",
       "      <td>451068.99</td>\n",
       "      <td>29336</td>\n",
       "      <td>454148.71</td>\n",
       "      <td>58764</td>\n",
       "    </tr>\n",
       "    <tr>\n",
       "      <th>27in 4K Gaming Monitor</th>\n",
       "      <td>6244</td>\n",
       "      <td>2429637.70</td>\n",
       "      <td>44440</td>\n",
       "      <td>2435097.56</td>\n",
       "      <td>90916</td>\n",
       "    </tr>\n",
       "    <tr>\n",
       "      <th>27in FHD Monitor</th>\n",
       "      <td>7550</td>\n",
       "      <td>1125974.93</td>\n",
       "      <td>52558</td>\n",
       "      <td>1132424.50</td>\n",
       "      <td>107540</td>\n",
       "    </tr>\n",
       "    <tr>\n",
       "      <th>34in Ultrawide Monitor</th>\n",
       "      <td>6199</td>\n",
       "      <td>2348718.19</td>\n",
       "      <td>43304</td>\n",
       "      <td>2355558.01</td>\n",
       "      <td>89076</td>\n",
       "    </tr>\n",
       "    <tr>\n",
       "      <th>AA Batteries (4-pack)</th>\n",
       "      <td>27635</td>\n",
       "      <td>79015.68</td>\n",
       "      <td>145558</td>\n",
       "      <td>106118.40</td>\n",
       "      <td>298342</td>\n",
       "    </tr>\n",
       "    <tr>\n",
       "      <th>AAA Batteries (4-pack)</th>\n",
       "      <td>31017</td>\n",
       "      <td>61716.59</td>\n",
       "      <td>146370</td>\n",
       "      <td>92740.83</td>\n",
       "      <td>297332</td>\n",
       "    </tr>\n",
       "    <tr>\n",
       "      <th>Apple Airpods Headphones</th>\n",
       "      <td>15661</td>\n",
       "      <td>2332350.00</td>\n",
       "      <td>109477</td>\n",
       "      <td>2349150.00</td>\n",
       "      <td>223304</td>\n",
       "    </tr>\n",
       "    <tr>\n",
       "      <th>Bose SoundSport Headphones</th>\n",
       "      <td>13457</td>\n",
       "      <td>1332366.75</td>\n",
       "      <td>94113</td>\n",
       "      <td>1345565.43</td>\n",
       "      <td>192445</td>\n",
       "    </tr>\n",
       "    <tr>\n",
       "      <th>Flatscreen TV</th>\n",
       "      <td>4819</td>\n",
       "      <td>1440000.00</td>\n",
       "      <td>34224</td>\n",
       "      <td>1445700.00</td>\n",
       "      <td>68815</td>\n",
       "    </tr>\n",
       "    <tr>\n",
       "      <th>Google Phone</th>\n",
       "      <td>5532</td>\n",
       "      <td>3315000.00</td>\n",
       "      <td>38305</td>\n",
       "      <td>3319200.00</td>\n",
       "      <td>79479</td>\n",
       "    </tr>\n",
       "    <tr>\n",
       "      <th>LG Dryer</th>\n",
       "      <td>646</td>\n",
       "      <td>387600.00</td>\n",
       "      <td>4383</td>\n",
       "      <td>387600.00</td>\n",
       "      <td>9326</td>\n",
       "    </tr>\n",
       "    <tr>\n",
       "      <th>LG Washing Machine</th>\n",
       "      <td>666</td>\n",
       "      <td>399600.00</td>\n",
       "      <td>4523</td>\n",
       "      <td>399600.00</td>\n",
       "      <td>9785</td>\n",
       "    </tr>\n",
       "    <tr>\n",
       "      <th>Lightning Charging Cable</th>\n",
       "      <td>23217</td>\n",
       "      <td>323787.10</td>\n",
       "      <td>153092</td>\n",
       "      <td>347094.15</td>\n",
       "      <td>312529</td>\n",
       "    </tr>\n",
       "    <tr>\n",
       "      <th>Macbook Pro Laptop</th>\n",
       "      <td>4728</td>\n",
       "      <td>8030800.00</td>\n",
       "      <td>33548</td>\n",
       "      <td>8037600.00</td>\n",
       "      <td>68261</td>\n",
       "    </tr>\n",
       "    <tr>\n",
       "      <th>ThinkPad Laptop</th>\n",
       "      <td>4130</td>\n",
       "      <td>4127958.72</td>\n",
       "      <td>28950</td>\n",
       "      <td>4129958.70</td>\n",
       "      <td>59746</td>\n",
       "    </tr>\n",
       "    <tr>\n",
       "      <th>USB-C Charging Cable</th>\n",
       "      <td>23975</td>\n",
       "      <td>261740.85</td>\n",
       "      <td>154819</td>\n",
       "      <td>286501.25</td>\n",
       "      <td>314645</td>\n",
       "    </tr>\n",
       "    <tr>\n",
       "      <th>Vareebadd Phone</th>\n",
       "      <td>2068</td>\n",
       "      <td>826000.00</td>\n",
       "      <td>14309</td>\n",
       "      <td>827200.00</td>\n",
       "      <td>29472</td>\n",
       "    </tr>\n",
       "    <tr>\n",
       "      <th>Wired Headphones</th>\n",
       "      <td>20557</td>\n",
       "      <td>226395.18</td>\n",
       "      <td>133397</td>\n",
       "      <td>246478.43</td>\n",
       "      <td>271720</td>\n",
       "    </tr>\n",
       "    <tr>\n",
       "      <th>iPhone</th>\n",
       "      <td>6849</td>\n",
       "      <td>4789400.00</td>\n",
       "      <td>47941</td>\n",
       "      <td>4794300.00</td>\n",
       "      <td>98657</td>\n",
       "    </tr>\n",
       "  </tbody>\n",
       "</table>\n",
       "</div>"
      ],
      "text/plain": [
       "                            Quantity Ordered  Price Each   Month       Sales  \\\n",
       "Product                                                                        \n",
       "20in Monitor                            4129   451068.99   29336   454148.71   \n",
       "27in 4K Gaming Monitor                  6244  2429637.70   44440  2435097.56   \n",
       "27in FHD Monitor                        7550  1125974.93   52558  1132424.50   \n",
       "34in Ultrawide Monitor                  6199  2348718.19   43304  2355558.01   \n",
       "AA Batteries (4-pack)                  27635    79015.68  145558   106118.40   \n",
       "AAA Batteries (4-pack)                 31017    61716.59  146370    92740.83   \n",
       "Apple Airpods Headphones               15661  2332350.00  109477  2349150.00   \n",
       "Bose SoundSport Headphones             13457  1332366.75   94113  1345565.43   \n",
       "Flatscreen TV                           4819  1440000.00   34224  1445700.00   \n",
       "Google Phone                            5532  3315000.00   38305  3319200.00   \n",
       "LG Dryer                                 646   387600.00    4383   387600.00   \n",
       "LG Washing Machine                       666   399600.00    4523   399600.00   \n",
       "Lightning Charging Cable               23217   323787.10  153092   347094.15   \n",
       "Macbook Pro Laptop                      4728  8030800.00   33548  8037600.00   \n",
       "ThinkPad Laptop                         4130  4127958.72   28950  4129958.70   \n",
       "USB-C Charging Cable                   23975   261740.85  154819   286501.25   \n",
       "Vareebadd Phone                         2068   826000.00   14309   827200.00   \n",
       "Wired Headphones                       20557   226395.18  133397   246478.43   \n",
       "iPhone                                  6849  4789400.00   47941  4794300.00   \n",
       "\n",
       "                              Hour  \n",
       "Product                             \n",
       "20in Monitor                 58764  \n",
       "27in 4K Gaming Monitor       90916  \n",
       "27in FHD Monitor            107540  \n",
       "34in Ultrawide Monitor       89076  \n",
       "AA Batteries (4-pack)       298342  \n",
       "AAA Batteries (4-pack)      297332  \n",
       "Apple Airpods Headphones    223304  \n",
       "Bose SoundSport Headphones  192445  \n",
       "Flatscreen TV                68815  \n",
       "Google Phone                 79479  \n",
       "LG Dryer                      9326  \n",
       "LG Washing Machine            9785  \n",
       "Lightning Charging Cable    312529  \n",
       "Macbook Pro Laptop           68261  \n",
       "ThinkPad Laptop              59746  \n",
       "USB-C Charging Cable        314645  \n",
       "Vareebadd Phone              29472  \n",
       "Wired Headphones            271720  \n",
       "iPhone                       98657  "
      ]
     },
     "execution_count": 134,
     "metadata": {},
     "output_type": "execute_result"
    }
   ],
   "source": [
    "groupedByProduct"
   ]
  },
  {
   "cell_type": "code",
   "execution_count": 130,
   "id": "6a7c8abb",
   "metadata": {
    "scrolled": false
   },
   "outputs": [],
   "source": [
    "groupedByProductMinPrice = df.groupby(\"Product\").min()"
   ]
  },
  {
   "cell_type": "code",
   "execution_count": 133,
   "id": "d9530347",
   "metadata": {
    "collapsed": true
   },
   "outputs": [
    {
     "data": {
      "text/html": [
       "<div>\n",
       "<style scoped>\n",
       "    .dataframe tbody tr th:only-of-type {\n",
       "        vertical-align: middle;\n",
       "    }\n",
       "\n",
       "    .dataframe tbody tr th {\n",
       "        vertical-align: top;\n",
       "    }\n",
       "\n",
       "    .dataframe thead th {\n",
       "        text-align: right;\n",
       "    }\n",
       "</style>\n",
       "<table border=\"1\" class=\"dataframe\">\n",
       "  <thead>\n",
       "    <tr style=\"text-align: right;\">\n",
       "      <th></th>\n",
       "      <th>Order ID</th>\n",
       "      <th>Quantity Ordered</th>\n",
       "      <th>Price Each</th>\n",
       "      <th>Order Date</th>\n",
       "      <th>Purchase Address</th>\n",
       "      <th>Month</th>\n",
       "      <th>Sales</th>\n",
       "      <th>City</th>\n",
       "      <th>Hour</th>\n",
       "    </tr>\n",
       "    <tr>\n",
       "      <th>Product</th>\n",
       "      <th></th>\n",
       "      <th></th>\n",
       "      <th></th>\n",
       "      <th></th>\n",
       "      <th></th>\n",
       "      <th></th>\n",
       "      <th></th>\n",
       "      <th></th>\n",
       "      <th></th>\n",
       "    </tr>\n",
       "  </thead>\n",
       "  <tbody>\n",
       "    <tr>\n",
       "      <th>20in Monitor</th>\n",
       "      <td>141289</td>\n",
       "      <td>1</td>\n",
       "      <td>109.99</td>\n",
       "      <td>01/01/19 12:50</td>\n",
       "      <td>1 Dogwood St, Dallas, TX 75001</td>\n",
       "      <td>1</td>\n",
       "      <td>109.99</td>\n",
       "      <td>Atlanta</td>\n",
       "      <td>0</td>\n",
       "    </tr>\n",
       "    <tr>\n",
       "      <th>27in 4K Gaming Monitor</th>\n",
       "      <td>141240</td>\n",
       "      <td>1</td>\n",
       "      <td>389.99</td>\n",
       "      <td>01/01/19 10:02</td>\n",
       "      <td>1 4th St, Boston, MA 02215</td>\n",
       "      <td>1</td>\n",
       "      <td>389.99</td>\n",
       "      <td>Atlanta</td>\n",
       "      <td>0</td>\n",
       "    </tr>\n",
       "    <tr>\n",
       "      <th>27in FHD Monitor</th>\n",
       "      <td>141237</td>\n",
       "      <td>1</td>\n",
       "      <td>149.99</td>\n",
       "      <td>01/01/19 09:08</td>\n",
       "      <td>1 7th St, Los Angeles, CA 90001</td>\n",
       "      <td>1</td>\n",
       "      <td>149.99</td>\n",
       "      <td>Atlanta</td>\n",
       "      <td>0</td>\n",
       "    </tr>\n",
       "    <tr>\n",
       "      <th>34in Ultrawide Monitor</th>\n",
       "      <td>141311</td>\n",
       "      <td>1</td>\n",
       "      <td>379.99</td>\n",
       "      <td>01/01/19 07:24</td>\n",
       "      <td>1 9th St, Dallas, TX 75001</td>\n",
       "      <td>1</td>\n",
       "      <td>379.99</td>\n",
       "      <td>Atlanta</td>\n",
       "      <td>0</td>\n",
       "    </tr>\n",
       "    <tr>\n",
       "      <th>AA Batteries (4-pack)</th>\n",
       "      <td>141253</td>\n",
       "      <td>1</td>\n",
       "      <td>3.84</td>\n",
       "      <td>01/01/19 07:26</td>\n",
       "      <td>1 14th St, San Francisco, CA 94016</td>\n",
       "      <td>1</td>\n",
       "      <td>3.84</td>\n",
       "      <td>Atlanta</td>\n",
       "      <td>0</td>\n",
       "    </tr>\n",
       "    <tr>\n",
       "      <th>AAA Batteries (4-pack)</th>\n",
       "      <td>141239</td>\n",
       "      <td>1</td>\n",
       "      <td>2.99</td>\n",
       "      <td>01/01/19 05:53</td>\n",
       "      <td>1 4th St, Dallas, TX 75001</td>\n",
       "      <td>1</td>\n",
       "      <td>2.99</td>\n",
       "      <td>Atlanta</td>\n",
       "      <td>0</td>\n",
       "    </tr>\n",
       "    <tr>\n",
       "      <th>Apple Airpods Headphones</th>\n",
       "      <td>141243</td>\n",
       "      <td>1</td>\n",
       "      <td>150.00</td>\n",
       "      <td>01/01/19 04:56</td>\n",
       "      <td>1 12th St, Los Angeles, CA 90001</td>\n",
       "      <td>1</td>\n",
       "      <td>150.00</td>\n",
       "      <td>Atlanta</td>\n",
       "      <td>0</td>\n",
       "    </tr>\n",
       "    <tr>\n",
       "      <th>Bose SoundSport Headphones</th>\n",
       "      <td>141242</td>\n",
       "      <td>1</td>\n",
       "      <td>99.99</td>\n",
       "      <td>01/01/19 09:12</td>\n",
       "      <td>1 14th St, New York City, NY 10001</td>\n",
       "      <td>1</td>\n",
       "      <td>99.99</td>\n",
       "      <td>Atlanta</td>\n",
       "      <td>0</td>\n",
       "    </tr>\n",
       "    <tr>\n",
       "      <th>Flatscreen TV</th>\n",
       "      <td>141248</td>\n",
       "      <td>1</td>\n",
       "      <td>300.00</td>\n",
       "      <td>01/01/19 09:58</td>\n",
       "      <td>1 4th St, Atlanta, GA 30301</td>\n",
       "      <td>1</td>\n",
       "      <td>300.00</td>\n",
       "      <td>Atlanta</td>\n",
       "      <td>0</td>\n",
       "    </tr>\n",
       "    <tr>\n",
       "      <th>Google Phone</th>\n",
       "      <td>141256</td>\n",
       "      <td>1</td>\n",
       "      <td>600.00</td>\n",
       "      <td>01/01/19 07:33</td>\n",
       "      <td>1 Adams St, Austin, TX 73301</td>\n",
       "      <td>1</td>\n",
       "      <td>600.00</td>\n",
       "      <td>Atlanta</td>\n",
       "      <td>0</td>\n",
       "    </tr>\n",
       "    <tr>\n",
       "      <th>LG Dryer</th>\n",
       "      <td>141341</td>\n",
       "      <td>1</td>\n",
       "      <td>600.00</td>\n",
       "      <td>01/01/19 10:27</td>\n",
       "      <td>1 6th St, Austin, TX 73301</td>\n",
       "      <td>1</td>\n",
       "      <td>600.00</td>\n",
       "      <td>Atlanta</td>\n",
       "      <td>0</td>\n",
       "    </tr>\n",
       "    <tr>\n",
       "      <th>LG Washing Machine</th>\n",
       "      <td>141516</td>\n",
       "      <td>1</td>\n",
       "      <td>600.00</td>\n",
       "      <td>01/01/19 13:15</td>\n",
       "      <td>101 Madison St, San Francisco, CA 94016</td>\n",
       "      <td>1</td>\n",
       "      <td>600.00</td>\n",
       "      <td>Atlanta</td>\n",
       "      <td>0</td>\n",
       "    </tr>\n",
       "    <tr>\n",
       "      <th>Lightning Charging Cable</th>\n",
       "      <td>141235</td>\n",
       "      <td>1</td>\n",
       "      <td>14.95</td>\n",
       "      <td>01/01/19 06:34</td>\n",
       "      <td>1 14th St, New York City, NY 10001</td>\n",
       "      <td>1</td>\n",
       "      <td>14.95</td>\n",
       "      <td>Atlanta</td>\n",
       "      <td>0</td>\n",
       "    </tr>\n",
       "    <tr>\n",
       "      <th>Macbook Pro Laptop</th>\n",
       "      <td>141245</td>\n",
       "      <td>1</td>\n",
       "      <td>1700.00</td>\n",
       "      <td>01/01/19 07:48</td>\n",
       "      <td>1 11th St, Los Angeles, CA 90001</td>\n",
       "      <td>1</td>\n",
       "      <td>1700.00</td>\n",
       "      <td>Atlanta</td>\n",
       "      <td>0</td>\n",
       "    </tr>\n",
       "    <tr>\n",
       "      <th>ThinkPad Laptop</th>\n",
       "      <td>141328</td>\n",
       "      <td>1</td>\n",
       "      <td>999.99</td>\n",
       "      <td>01/01/19 08:13</td>\n",
       "      <td>1 Center St, San Francisco, CA 94016</td>\n",
       "      <td>1</td>\n",
       "      <td>999.99</td>\n",
       "      <td>Atlanta</td>\n",
       "      <td>0</td>\n",
       "    </tr>\n",
       "    <tr>\n",
       "      <th>USB-C Charging Cable</th>\n",
       "      <td>141241</td>\n",
       "      <td>1</td>\n",
       "      <td>11.95</td>\n",
       "      <td>01/01/19 03:40</td>\n",
       "      <td>1 11th St, Atlanta, GA 30301</td>\n",
       "      <td>1</td>\n",
       "      <td>11.95</td>\n",
       "      <td>Atlanta</td>\n",
       "      <td>0</td>\n",
       "    </tr>\n",
       "    <tr>\n",
       "      <th>Vareebadd Phone</th>\n",
       "      <td>141250</td>\n",
       "      <td>1</td>\n",
       "      <td>400.00</td>\n",
       "      <td>01/01/19 18:04</td>\n",
       "      <td>100 Johnson St, Atlanta, GA 30301</td>\n",
       "      <td>1</td>\n",
       "      <td>400.00</td>\n",
       "      <td>Atlanta</td>\n",
       "      <td>0</td>\n",
       "    </tr>\n",
       "    <tr>\n",
       "      <th>Wired Headphones</th>\n",
       "      <td>141236</td>\n",
       "      <td>1</td>\n",
       "      <td>11.99</td>\n",
       "      <td>01/01/19 03:07</td>\n",
       "      <td>1 12th St, New York City, NY 10001</td>\n",
       "      <td>1</td>\n",
       "      <td>11.99</td>\n",
       "      <td>Atlanta</td>\n",
       "      <td>0</td>\n",
       "    </tr>\n",
       "    <tr>\n",
       "      <th>iPhone</th>\n",
       "      <td>141234</td>\n",
       "      <td>1</td>\n",
       "      <td>700.00</td>\n",
       "      <td>01/01/19 06:13</td>\n",
       "      <td>1 11th St, San Francisco, CA 94016</td>\n",
       "      <td>1</td>\n",
       "      <td>700.00</td>\n",
       "      <td>Atlanta</td>\n",
       "      <td>0</td>\n",
       "    </tr>\n",
       "  </tbody>\n",
       "</table>\n",
       "</div>"
      ],
      "text/plain": [
       "                           Order ID  Quantity Ordered  Price Each  \\\n",
       "Product                                                             \n",
       "20in Monitor                 141289                 1      109.99   \n",
       "27in 4K Gaming Monitor       141240                 1      389.99   \n",
       "27in FHD Monitor             141237                 1      149.99   \n",
       "34in Ultrawide Monitor       141311                 1      379.99   \n",
       "AA Batteries (4-pack)        141253                 1        3.84   \n",
       "AAA Batteries (4-pack)       141239                 1        2.99   \n",
       "Apple Airpods Headphones     141243                 1      150.00   \n",
       "Bose SoundSport Headphones   141242                 1       99.99   \n",
       "Flatscreen TV                141248                 1      300.00   \n",
       "Google Phone                 141256                 1      600.00   \n",
       "LG Dryer                     141341                 1      600.00   \n",
       "LG Washing Machine           141516                 1      600.00   \n",
       "Lightning Charging Cable     141235                 1       14.95   \n",
       "Macbook Pro Laptop           141245                 1     1700.00   \n",
       "ThinkPad Laptop              141328                 1      999.99   \n",
       "USB-C Charging Cable         141241                 1       11.95   \n",
       "Vareebadd Phone              141250                 1      400.00   \n",
       "Wired Headphones             141236                 1       11.99   \n",
       "iPhone                       141234                 1      700.00   \n",
       "\n",
       "                                Order Date  \\\n",
       "Product                                      \n",
       "20in Monitor                01/01/19 12:50   \n",
       "27in 4K Gaming Monitor      01/01/19 10:02   \n",
       "27in FHD Monitor            01/01/19 09:08   \n",
       "34in Ultrawide Monitor      01/01/19 07:24   \n",
       "AA Batteries (4-pack)       01/01/19 07:26   \n",
       "AAA Batteries (4-pack)      01/01/19 05:53   \n",
       "Apple Airpods Headphones    01/01/19 04:56   \n",
       "Bose SoundSport Headphones  01/01/19 09:12   \n",
       "Flatscreen TV               01/01/19 09:58   \n",
       "Google Phone                01/01/19 07:33   \n",
       "LG Dryer                    01/01/19 10:27   \n",
       "LG Washing Machine          01/01/19 13:15   \n",
       "Lightning Charging Cable    01/01/19 06:34   \n",
       "Macbook Pro Laptop          01/01/19 07:48   \n",
       "ThinkPad Laptop             01/01/19 08:13   \n",
       "USB-C Charging Cable        01/01/19 03:40   \n",
       "Vareebadd Phone             01/01/19 18:04   \n",
       "Wired Headphones            01/01/19 03:07   \n",
       "iPhone                      01/01/19 06:13   \n",
       "\n",
       "                                                   Purchase Address  Month  \\\n",
       "Product                                                                      \n",
       "20in Monitor                         1 Dogwood St, Dallas, TX 75001      1   \n",
       "27in 4K Gaming Monitor                   1 4th St, Boston, MA 02215      1   \n",
       "27in FHD Monitor                    1 7th St, Los Angeles, CA 90001      1   \n",
       "34in Ultrawide Monitor                   1 9th St, Dallas, TX 75001      1   \n",
       "AA Batteries (4-pack)            1 14th St, San Francisco, CA 94016      1   \n",
       "AAA Batteries (4-pack)                   1 4th St, Dallas, TX 75001      1   \n",
       "Apple Airpods Headphones           1 12th St, Los Angeles, CA 90001      1   \n",
       "Bose SoundSport Headphones       1 14th St, New York City, NY 10001      1   \n",
       "Flatscreen TV                           1 4th St, Atlanta, GA 30301      1   \n",
       "Google Phone                           1 Adams St, Austin, TX 73301      1   \n",
       "LG Dryer                                 1 6th St, Austin, TX 73301      1   \n",
       "LG Washing Machine          101 Madison St, San Francisco, CA 94016      1   \n",
       "Lightning Charging Cable         1 14th St, New York City, NY 10001      1   \n",
       "Macbook Pro Laptop                 1 11th St, Los Angeles, CA 90001      1   \n",
       "ThinkPad Laptop                1 Center St, San Francisco, CA 94016      1   \n",
       "USB-C Charging Cable                   1 11th St, Atlanta, GA 30301      1   \n",
       "Vareebadd Phone                   100 Johnson St, Atlanta, GA 30301      1   \n",
       "Wired Headphones                 1 12th St, New York City, NY 10001      1   \n",
       "iPhone                           1 11th St, San Francisco, CA 94016      1   \n",
       "\n",
       "                              Sales     City  Hour  \n",
       "Product                                             \n",
       "20in Monitor                 109.99  Atlanta     0  \n",
       "27in 4K Gaming Monitor       389.99  Atlanta     0  \n",
       "27in FHD Monitor             149.99  Atlanta     0  \n",
       "34in Ultrawide Monitor       379.99  Atlanta     0  \n",
       "AA Batteries (4-pack)          3.84  Atlanta     0  \n",
       "AAA Batteries (4-pack)         2.99  Atlanta     0  \n",
       "Apple Airpods Headphones     150.00  Atlanta     0  \n",
       "Bose SoundSport Headphones    99.99  Atlanta     0  \n",
       "Flatscreen TV                300.00  Atlanta     0  \n",
       "Google Phone                 600.00  Atlanta     0  \n",
       "LG Dryer                     600.00  Atlanta     0  \n",
       "LG Washing Machine           600.00  Atlanta     0  \n",
       "Lightning Charging Cable      14.95  Atlanta     0  \n",
       "Macbook Pro Laptop          1700.00  Atlanta     0  \n",
       "ThinkPad Laptop              999.99  Atlanta     0  \n",
       "USB-C Charging Cable          11.95  Atlanta     0  \n",
       "Vareebadd Phone              400.00  Atlanta     0  \n",
       "Wired Headphones              11.99  Atlanta     0  \n",
       "iPhone                       700.00  Atlanta     0  "
      ]
     },
     "execution_count": 133,
     "metadata": {},
     "output_type": "execute_result"
    }
   ],
   "source": [
    "groupedByProductMinPrice"
   ]
  },
  {
   "cell_type": "code",
   "execution_count": 157,
   "id": "3597223d",
   "metadata": {},
   "outputs": [
    {
     "data": {
      "image/png": "[encoded data removed]",
      "text/plain": [
       "<Figure size 576x432 with 2 Axes>"
      ]
     },
     "metadata": {
      "needs_background": "light"
     },
     "output_type": "display_data"
    }
   ],
   "source": [
    "x = groupedByProduct.index\n",
    "\n",
    "# Drawing count order by hour\n",
    "\n",
    "x = groupedByProduct.index\n",
    "y = groupedByProduct[\"Quantity Ordered\"]\n",
    "z = groupedByProductMinPrice[\"Price Each\"]\n",
    "\n",
    "fig, ax1 = plt.subplots()\n",
    "\n",
    "ax2 = ax1.twinx()\n",
    "\n",
    "lns1 = ax1.plot(x, y, \"kh-.\", label = \"Quantity Ordered\")\n",
    "lns2 = ax2.plot(x, z, \"rd--\", label = \"Price\")\n",
    "\n",
    "\n",
    "ax1.set_xlabel(\"Products\")\n",
    "ax1.set_ylabel(\"Quantity Ordered\")\n",
    "ax2.set_ylabel(\"Price (USD)\")\n",
    "\n",
    "ax1.set_xticklabels(x, rotation = 90)\n",
    "\n",
    "lns = lns1+lns2\n",
    "labs = [l.get_label() for l in lns]\n",
    "ax1.legend(lns, labs, loc=0, frameon = True, fontsize = 14)\n",
    "\n",
    "ax2.set_ylim([-100,2500])\n",
    "plt.grid()\n",
    "plt.show()"
   ]
  },
  {
   "cell_type": "code",
   "execution_count": null,
   "id": "7509f739",
   "metadata": {},
   "outputs": [],
   "source": []
  },
  {
   "cell_type": "code",
   "execution_count": null,
   "id": "9108a65d",
   "metadata": {},
   "outputs": [],
   "source": []
  },
  {
   "cell_type": "code",
   "execution_count": null,
   "id": "86fbef26",
   "metadata": {},
   "outputs": [],
   "source": []
  },
  {
   "cell_type": "code",
   "execution_count": null,
   "id": "aefc12d3",
   "metadata": {},
   "outputs": [],
   "source": []
  },
  {
   "cell_type": "code",
   "execution_count": null,
   "id": "23488330",
   "metadata": {},
   "outputs": [],
   "source": []
  },
  {
   "cell_type": "code",
   "execution_count": null,
   "id": "0ae42446",
   "metadata": {},
   "outputs": [],
   "source": []
  },
  {
   "cell_type": "code",
   "execution_count": null,
   "id": "1537d177",
   "metadata": {},
   "outputs": [],
   "source": []
  },
  {
   "cell_type": "code",
   "execution_count": null,
   "id": "a78f258e",
   "metadata": {},
   "outputs": [],
   "source": []
  },
  {
   "cell_type": "code",
   "execution_count": null,
   "id": "eca198b5",
   "metadata": {},
   "outputs": [],
   "source": []
  },
  {
   "cell_type": "code",
   "execution_count": null,
   "id": "3f52d869",
   "metadata": {},
   "outputs": [],
   "source": []
  },
  {
   "cell_type": "code",
   "execution_count": null,
   "id": "2d7a7462",
   "metadata": {},
   "outputs": [],
   "source": []
  },
  {
   "cell_type": "code",
   "execution_count": null,
   "id": "48a204ea",
   "metadata": {},
   "outputs": [],
   "source": []
  },
  {
   "cell_type": "code",
   "execution_count": null,
   "id": "293a4482",
   "metadata": {},
   "outputs": [],
   "source": []
  },
  {
   "cell_type": "code",
   "execution_count": null,
   "id": "500b22ff",
   "metadata": {},
   "outputs": [],
   "source": []
  },
  {
   "cell_type": "code",
   "execution_count": null,
   "id": "1c6290fc",
   "metadata": {},
   "outputs": [],
   "source": []
  },
  {
   "cell_type": "code",
   "execution_count": null,
   "id": "9148a696",
   "metadata": {},
   "outputs": [],
   "source": []
  },
  {
   "cell_type": "code",
   "execution_count": null,
   "id": "ab1a9724",
   "metadata": {},
   "outputs": [],
   "source": []
  },
  {
   "cell_type": "code",
   "execution_count": null,
   "id": "666f87ed",
   "metadata": {},
   "outputs": [],
   "source": []
  },
  {
   "cell_type": "code",
   "execution_count": null,
   "id": "70fd2da7",
   "metadata": {},
   "outputs": [],
   "source": []
  }
 ],
 "metadata": {
  "kernelspec": {
   "display_name": "Python 3 (ipykernel)",
   "language": "python",
   "name": "python3"
  },
  "language_info": {
   "codemirror_mode": {
    "name": "ipython",
    "version": 3
   },
   "file_extension": ".py",
   "mimetype": "text/x-python",
   "name": "python",
   "nbconvert_exporter": "python",
   "pygments_lexer": "ipython3",
   "version": "3.9.6"
  }
 },
 "nbformat": 4,
 "nbformat_minor": 5
}
